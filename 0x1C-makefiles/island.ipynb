{
 "cells": [
  {
   "cell_type": "code",
   "execution_count": 62,
   "metadata": {},
   "outputs": [
    {
     "name": "stdout",
     "output_type": "stream",
     "text": [
      "first if, 1,1\n",
      "second if, 1,1\n",
      "third if, 1,1\n",
      "Hello\n",
      "first if, 1,4\n",
      "second if, 1,4\n",
      "third if, 1,4\n",
      "fourth if, 1,4\n",
      "Hello\n",
      "first if, 1,5\n",
      "third if, 1,5\n",
      "fourth if, 1,5\n",
      "Hello\n",
      "second if, 2,1\n",
      "third if, 2,1\n",
      "Hello\n",
      "second if, 3,1\n",
      "third if, 3,1\n",
      "fourth if, 3,1\n",
      "Hello\n",
      "first if, 3,2\n",
      "fourth if, 3,2\n",
      "Hello\n",
      "first if, 3,3\n",
      "fourth if, 3,3\n",
      "Hello\n",
      "first if, 3,4\n",
      "fourth if, 3,4\n",
      "Hello\n",
      "21\n"
     ]
    }
   ],
   "source": [
    "def island_perimeter(grid):\n",
    "    \"\"\"Returns the perimetr of the island\"\"\"\n",
    "\n",
    "    perimeter = 0\n",
    "    for i in range(len(grid)):\n",
    "        for j in range(len(grid[i])):\n",
    "            if grid[i][j]:\n",
    "                perimeter += num_water(grid, i, j)\n",
    "                print(\"Hello\")\n",
    "\n",
    "    return perimeter\n",
    "\n",
    "\n",
    "def num_water(grid, i, j):\n",
    "    \"\"\"Returns the number of water a cell has in a grid.\"\"\"\n",
    "\n",
    "    num = 0\n",
    "    if i <= 0 or not grid[i - 1][j]:\n",
    "        num += 1\n",
    "        print(f\"first if, {i},{j}\")\n",
    "    if j <= 0 or not grid[i][j - 1]:\n",
    "        num += 1\n",
    "        print(f\"second if, {i},{j}\")\n",
    "    if j >= len(grid[i]) - 1 or not grid[i][j - 1]:\n",
    "        num += 1\n",
    "        print(f\"third if, {i},{j}\")\n",
    "    if i >= len(grid) - 1 or not grid[i + 1][j]:\n",
    "        num += 1\n",
    "        print(f\"fourth if, {i},{j}\")\n",
    "\n",
    "    return num\n",
    "\n",
    "\n",
    "grid = [\n",
    "    [0, 0, 0, 0, 0, 0],\n",
    "    [0, 1, 0, 0, 1, 0],\n",
    "    [0, 1, 0, 0, 0, 0],\n",
    "    [0, 1, 1, 1, 1, 0],\n",
    "    [0, 0, 0, 0, 0, 0]\n",
    "]\n",
    "print(island_perimeter(grid))\n"
   ]
  }
 ],
 "metadata": {
  "kernelspec": {
   "display_name": "Python 3.10.6 64-bit",
   "language": "python",
   "name": "python3"
  },
  "language_info": {
   "codemirror_mode": {
    "name": "ipython",
    "version": 3
   },
   "file_extension": ".py",
   "mimetype": "text/x-python",
   "name": "python",
   "nbconvert_exporter": "python",
   "pygments_lexer": "ipython3",
   "version": "3.10.6"
  },
  "orig_nbformat": 4,
  "vscode": {
   "interpreter": {
    "hash": "916dbcbb3f70747c44a77c7bcd40155683ae19c65e1c03b4aa3499c5328201f1"
   }
  }
 },
 "nbformat": 4,
 "nbformat_minor": 2
}
